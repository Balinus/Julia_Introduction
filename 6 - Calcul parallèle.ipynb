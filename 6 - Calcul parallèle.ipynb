{
 "cells": [
  {
   "cell_type": "markdown",
   "metadata": {},
   "source": [
    "# Calcul parallel\n",
    "\n",
    "JULIA dans sa grande force permet nativement le calcul parallel plus précisément calcul parallel à mémoire partagée ou distribuée.\n",
    "\n",
    "Le document référence officiel : http://julia.readthedocs.org/en/latest/manual/parallel-computing/\n",
    "\n",
    "http://www.csd.uwo.ca/~moreno/cs2101a_moreno/Parallel_computing_with_Julia.pdf Très transparants très bien fait la notion de Task est abordée...\n",
    "\n",
    "http://www.admin-magazine.com/HPC/Articles/Julia-Distributed-Arrays\n",
    "\n",
    "\n",
    "http://www.admin-magazine.com/HPC/Articles/Parallel-Julia-Jumping-Right-In\n",
    "\n",
    "http://www.blog.juliaferraioli.com/2014/02/julia-on-google-compute-engine-parallel.html\n",
    "\n",
    "http://www.alshum.com/parallel-julia/"
   ]
  },
  {
   "cell_type": "code",
   "execution_count": 1,
   "metadata": {
    "collapsed": false
   },
   "outputs": [
    {
     "name": "stderr",
     "output_type": "stream",
     "text": [
      "INFO: Loading help data...\n"
     ]
    }
   ],
   "source": [
    "using PyPlot # pour afficher le résultat sur le noeud master"
   ]
  },
  {
   "cell_type": "markdown",
   "metadata": {},
   "source": [
    "En tout premier lieu on peut lancer une instance de JULIA avec plusieurs processeurs (ou plusieurs instances de JULIA) à l'aide de la commande shell\n",
    "\n",
    "julia -p 4\n",
    "\n",
    "Autrement on peut à la volée ajouter/enlever des processeurs ou plutôt workers à l'aide des commandes <code>addproc()</code> <code>rmproc()</code> et <code>worker()</code> ainsi que les commandes <code>nprocs</code> et <code>nworker</code> "
   ]
  },
  {
   "cell_type": "code",
   "execution_count": 2,
   "metadata": {
    "collapsed": false
   },
   "outputs": [
    {
     "data": {
      "text/plain": [
       "1-element Array{Int64,1}:\n",
       " 1"
      ]
     },
     "execution_count": 2,
     "metadata": {},
     "output_type": "execute_result"
    }
   ],
   "source": [
    "workers() # par défaut un worker le \"maitre\""
   ]
  },
  {
   "cell_type": "code",
   "execution_count": 3,
   "metadata": {
    "collapsed": false
   },
   "outputs": [
    {
     "data": {
      "text/plain": [
       "2-element Array{Any,1}:\n",
       " 2\n",
       " 3"
      ]
     },
     "execution_count": 3,
     "metadata": {},
     "output_type": "execute_result"
    }
   ],
   "source": [
    "addprocs(2) #ajout de 2 workers"
   ]
  },
  {
   "cell_type": "code",
   "execution_count": 4,
   "metadata": {
    "collapsed": false
   },
   "outputs": [
    {
     "data": {
      "text/plain": [
       "2-element Array{Int64,1}:\n",
       " 2\n",
       " 3"
      ]
     },
     "execution_count": 4,
     "metadata": {},
     "output_type": "execute_result"
    }
   ],
   "source": [
    "workers() # le processeur 1 n'est plus worker il est evenu master"
   ]
  },
  {
   "cell_type": "markdown",
   "metadata": {},
   "source": [
    "# @parallel for\n",
    "\n",
    "JULIA offre une façon simple de paralleliser une boucle for à l'aide de la macro @parallel"
   ]
  },
  {
   "cell_type": "code",
   "execution_count": 5,
   "metadata": {
    "collapsed": false
   },
   "outputs": [],
   "source": [
    "taille=7\n",
    "@parallel for i=1:taille\n",
    "    println(myid()); # renvoie le numéro du worker\n",
    "end"
   ]
  },
  {
   "cell_type": "code",
   "execution_count": 6,
   "metadata": {
    "collapsed": false
   },
   "outputs": [
    {
     "data": {
      "text/plain": [
       "1"
      ]
     },
     "execution_count": 6,
     "metadata": {},
     "output_type": "execute_result"
    }
   ],
   "source": [
    "myid() # numéro du processus maitre"
   ]
  },
  {
   "cell_type": "markdown",
   "metadata": {},
   "source": [
    "Regardons plus exactement la répartition du calcul pour cela utilisons un tableau partagé <code>SharedArray</code> (voir également <code>SharedMatrix</code>, <code>SharedVector</code>). Autrement dit un tableau qui sera accessible en lecture et en écriture pour chaque worker (et le master)."
   ]
  },
  {
   "cell_type": "code",
   "execution_count": 7,
   "metadata": {
    "collapsed": false
   },
   "outputs": [
    {
     "name": "stdout",
     "output_type": "stream",
     "text": [
      "\tFrom worker 2:\t2\n",
      "\tFrom worker 3:\t3\n",
      "\tFrom worker 3:\t3\n",
      "\tFrom worker 3:\t3\n",
      "\tFrom worker 2:\t2\n",
      "\tFrom worker 2:\t2\n",
      "\tFrom worker 2:\t2\n"
     ]
    }
   ],
   "source": [
    "taille=7\n",
    "a = SharedArray(Int,(1,taille)) # Tableau partagé\n",
    "@parallel for i=1:taille\n",
    "    a[i]=myid(); # renvoie le numéro du worker stocké dans a\n",
    "end"
   ]
  },
  {
   "cell_type": "code",
   "execution_count": 8,
   "metadata": {
    "collapsed": false
   },
   "outputs": [
    {
     "data": {
      "text/plain": [
       "1x7 SharedArray{Int64,2}:\n",
       " 2  2  2  2  3  3  3"
      ]
     },
     "execution_count": 8,
     "metadata": {},
     "output_type": "execute_result"
    }
   ],
   "source": [
    "a"
   ]
  },
  {
   "cell_type": "markdown",
   "metadata": {},
   "source": [
    "La boucle à été partagée et envoyée pour i=1:4 sur le worher 2 et pour i=5:7 sur le worker 3.\n",
    "\n",
    "Regardons si nous n'avions pas utilisr de tableau partagé"
   ]
  },
  {
   "cell_type": "code",
   "execution_count": 9,
   "metadata": {
    "collapsed": false
   },
   "outputs": [],
   "source": [
    "taille=7\n",
    "a = zeros(taille) # Tableau non partagé il est ici en local myid()==1\n",
    " @parallel for i=1:taille\n",
    "    a[i]=myid(); # renvoie le numéro du worker\n",
    "    println(a)\n",
    "end"
   ]
  },
  {
   "cell_type": "markdown",
   "metadata": {},
   "source": [
    "On peut voire que localement les worker ont accès à une copie de a dont ils peuvent modifier les valeurs \"localement\". \n",
    "\n",
    "Par contre"
   ]
  },
  {
   "cell_type": "code",
   "execution_count": 10,
   "metadata": {
    "collapsed": false
   },
   "outputs": [
    {
     "name": "stdout",
     "output_type": "stream",
     "text": [
      "[0.0,0.0,0.0,0.0,0.0,0.0,0.0]\n"
     ]
    }
   ],
   "source": [
    "println(a)"
   ]
  },
  {
   "cell_type": "markdown",
   "metadata": {},
   "source": [
    "la valeur locale sur master n'a pas été modifiée. Autrement dit chaque worker a utilisé une copie locale de a, localement modifiable mais une fois l'execution terminée cette copie est effacée."
   ]
  },
  {
   "cell_type": "code",
   "execution_count": 11,
   "metadata": {
    "collapsed": false
   },
   "outputs": [],
   "source": [
    "a = ones(taille)\n",
    "@parallel for i=1:2\n",
    "    println(a) # nouvelle copie locale\n",
    "end"
   ]
  },
  {
   "cell_type": "markdown",
   "metadata": {},
   "source": [
    "# Application :\n",
    "\n",
    "Plaçons nous sur un exemple de calcul de bassin d'attraction de Newton\n",
    "\n",
    "## premier calcul mono-processeur (temps de référence)"
   ]
  },
  {
   "cell_type": "code",
   "execution_count": 12,
   "metadata": {
    "collapsed": false
   },
   "outputs": [
    {
     "data": {
      "text/plain": [
       "calc_bassin (generic function with 1 method)"
      ]
     },
     "execution_count": 12,
     "metadata": {},
     "output_type": "execute_result"
    },
    {
     "name": "stdout",
     "output_type": "stream",
     "text": [
      "\tFrom worker 3:\t[0.0[,10.0.0,,10.0.0,,10.0.0,,13.0.0,,10.0.0,,10.0.0,]1\n",
      "\tFrom worker 2:\t[2.0[,10.0.0,,10.0.0,,10.0.0,,10.0.0,,10.0.0,,10.0.0,]1\n"
     ]
    }
   ],
   "source": [
    "# algorithme de Newton\n",
    "function newton(x0,f,df,epsi)\n",
    "    k=0;\n",
    "    x=x0;\n",
    "    xnew=x-df(x)\\f(x);\n",
    "    while (norm(x-xnew)>epsi)&(k<1000)\n",
    "        x=xnew\n",
    "        xnew=x-df(x)\\f(x);\n",
    "    end\n",
    "    return xnew\n",
    "end\n",
    "# fonction f(x)=0 à résoudre ici z=x+iy et f(z)=z^3-1\n",
    "f(x)=[x[1]^3-3*x[1]*x[2]^2-1,3*x[1]^2*x[2]-x[2]^3]\n",
    "# le jacobien de f\n",
    "df(x)=[3*x[1]^2-3*x[2]^2 -6*x[1]*x[2];6*x[1]*x[2] 3*x[1]^2-3*x[2]^2]\n",
    "\n",
    "# Calcul du bassin si on converge vers la Ieme racine suivant le point de départ\n",
    "function calc_bassin(f,df,n)\n",
    "    x=linspace(-1,1,n);\n",
    "    y=linspace(-1,1,n);\n",
    "    Imag=zeros(n,n);\n",
    "    for i=1:n\n",
    "        for j=1:n\n",
    "            r=newton([x[i],y[n-j+1]],f,df,1e-10)\n",
    "            Imag[j,i]=int(round(atan2(r[2],r[1])*3/pi)+3)%3;\n",
    "        end\n",
    "    end\n",
    "    return Imag\n",
    "end"
   ]
  },
  {
   "cell_type": "code",
   "execution_count": 13,
   "metadata": {
    "collapsed": false
   },
   "outputs": [
    {
     "name": "stdout",
     "output_type": "stream",
     "text": [
      "elapsed time: \tFrom worker 3:\t.0][\n",
      "\tFrom worker 2:\t.0][\n",
      "7\tFrom worker 3:\t0.0,0.0,0.0,0.0,3.0,3.0,0.0]\n",
      "\tFrom worker 2:\t2.0,2.0,0.0,0.0,0.0,0.0,0.0]\n",
      ".\tFrom worker 3:\t[0.0,0.0,0.0,0.0,3.0,3.0,3.0]\n",
      "\tFrom worker 2:\t[2.0,2.0,2.0,0.0,0.0,0.0,0.0]\n",
      "406734161\tFrom worker 2:\t[2.0,2.0,2.0,2.0,0.0,0.0,0.0]\n",
      " seconds (2675529164 bytes allocated, 29.05% gc time)\n"
     ]
    }
   ],
   "source": [
    "n=512\n",
    "@time Imag=calc_bassin(f,df,n);"
   ]
  },
  {
   "cell_type": "code",
   "execution_count": 14,
   "metadata": {
    "collapsed": false
   },
   "outputs": [
    {
     "data": {
      "image/png": "[encoded data removed]",
      "text/plain": [
       "Figure(PyObject <matplotlib.figure.Figure object at 0x11f6990d0>)"
      ]
     },
     "metadata": {},
     "output_type": "display_data"
    },
    {
     "data": {
      "text/plain": [
       "PyObject <matplotlib.colorbar.Colorbar instance at 0x120cd5dd0>"
      ]
     },
     "execution_count": 14,
     "metadata": {},
     "output_type": "execute_result"
    }
   ],
   "source": [
    "contourf(linspace(-1,1,n),linspace(-1,1,n),Imag)\n",
    "colorbar()"
   ]
  },
  {
   "cell_type": "markdown",
   "metadata": {},
   "source": [
    "## Boucle parallèle"
   ]
  },
  {
   "cell_type": "code",
   "execution_count": 15,
   "metadata": {
    "collapsed": false
   },
   "outputs": [
    {
     "data": {
      "text/plain": [
       "2-element Array{Any,1}:\n",
       " 4\n",
       " 5"
      ]
     },
     "execution_count": 15,
     "metadata": {},
     "output_type": "execute_result"
    }
   ],
   "source": [
    "addprocs(2); # on ajoute 2 processeurs"
   ]
  },
  {
   "cell_type": "markdown",
   "metadata": {
    "collapsed": true
   },
   "source": [
    "Dans un premier temps on redéfinie les fonctions newton, f et df pour tous les workers à l'aide de la macro @everywhere"
   ]
  },
  {
   "cell_type": "code",
   "execution_count": 16,
   "metadata": {
    "collapsed": true
   },
   "outputs": [],
   "source": [
    "# algorithme de Newton\n",
    "@everywhere function newton(x0,f,df,epsi)\n",
    "    k=0;\n",
    "    x=x0;\n",
    "    xnew=x-df(x)\\f(x);\n",
    "    while (norm(x-xnew)>epsi)&(k<1000)\n",
    "        x=xnew\n",
    "        xnew=x-df(x)\\f(x);\n",
    "    end\n",
    "    return xnew\n",
    "end\n",
    "# fonction f(x)=0 à résoudre ici z=x+iy et f(z)=z^3-1\n",
    "@everywhere f(x)=[x[1]^3-3*x[1]*x[2]^2-1,3*x[1]^2*x[2]-x[2]^3]\n",
    "# le jacobien de f\n",
    "@everywhere df(x)=[3*x[1]^2-3*x[2]^2 -6*x[1]*x[2];6*x[1]*x[2] 3*x[1]^2-3*x[2]^2]\n",
    "# Calcul du bassin si on converge vers la Ieme racine suivant le point de départ"
   ]
  },
  {
   "cell_type": "markdown",
   "metadata": {},
   "source": [
    "Puis on uitlise @parallel dans la boucle extérieure ainsi que @sync pour resynchroniser les process autrement attendre que tous les workers aient fini leurs calculs "
   ]
  },
  {
   "cell_type": "code",
   "execution_count": 17,
   "metadata": {
    "collapsed": false
   },
   "outputs": [
    {
     "data": {
      "text/plain": [
       "calc_bassin (generic function with 1 method)"
      ]
     },
     "execution_count": 17,
     "metadata": {},
     "output_type": "execute_result"
    }
   ],
   "source": [
    "function calc_bassin(f,df,n)\n",
    "    x=linspace(-1,1,n);\n",
    "    y=linspace(-1,1,n);\n",
    "    Imag=SharedArray(Int,(n,n));\n",
    "    @sync begin\n",
    "        @parallel for i=1:n\n",
    "             for j=1:n\n",
    "                r=newton([x[i],y[n-j+1]],f,df,1e-10)\n",
    "                Imag[j,i]=int(round(atan2(r[2],r[1])*3/pi)+3)%3;\n",
    "            end\n",
    "        end\n",
    "    end\n",
    "    return Imag\n",
    "end"
   ]
  },
  {
   "cell_type": "code",
   "execution_count": 18,
   "metadata": {
    "collapsed": false
   },
   "outputs": [
    {
     "name": "stdout",
     "output_type": "stream",
     "text": [
      "elapsed time: 3.565591268 seconds (2286600 bytes allocated)\n"
     ]
    }
   ],
   "source": [
    "n=512 # efficacité pas très grande\n",
    "@time Imag=calc_bassin(f,df,n); "
   ]
  },
  {
   "cell_type": "code",
   "execution_count": 19,
   "metadata": {
    "collapsed": false
   },
   "outputs": [
    {
     "data": {
      "image/png": "[encoded data removed]",
      "text/plain": [
       "Figure(PyObject <matplotlib.figure.Figure object at 0x120d0cf10>)"
      ]
     },
     "metadata": {},
     "output_type": "display_data"
    },
    {
     "data": {
      "text/plain": [
       "PyObject <matplotlib.colorbar.Colorbar instance at 0x1224bf758>"
      ]
     },
     "execution_count": 19,
     "metadata": {},
     "output_type": "execute_result"
    }
   ],
   "source": [
    "contourf(Imag)\n",
    "colorbar()"
   ]
  },
  {
   "cell_type": "markdown",
   "metadata": {},
   "source": [
    "# Encore plus de //\n",
    "\n",
    "On a utilisé les macros <code>@everywhere</code> <code>@parallel</code> <code>@sync</code>\n",
    "regardons \n",
    "\n",
    "* <code>remotecall</code> appel asynchrone (n'attends pas le résultat dit appel non bloquant)\n",
    "* <code>fetch</code> récupère le résultat (synchronise)\n",
    "* <code>remotecall_fetch</code> les 2 commandes précédentes réunies ou appel bloquant (tant que le résultat n'est pas calculé la fonction ne rend pas la main.\n",
    "* <code>remotecall_wait</code>\n",
    "* <code>@spawn</code> et <code>@spawnat</code> macros pour <code>remotecall</code>\n"
   ]
  },
  {
   "cell_type": "code",
   "execution_count": 20,
   "metadata": {
    "collapsed": false
   },
   "outputs": [
    {
     "name": "stdout",
     "output_type": "stream",
     "text": [
      "2\n",
      "3\n",
      "4\n",
      "5\n"
     ]
    }
   ],
   "source": [
    "for proc=workers()\n",
    "    println(remotecall_fetch(proc,myid)) # demande l'exécution de myid() sur chaque proc\n",
    "end"
   ]
  },
  {
   "cell_type": "code",
   "execution_count": 21,
   "metadata": {
    "collapsed": false
   },
   "outputs": [
    {
     "name": "stdout",
     "output_type": "stream",
     "text": [
      "[2.0,3.0,4.0,5.0]\n"
     ]
    }
   ],
   "source": [
    "a=zeros(nworkers())\n",
    "for i=1:nworkers()\n",
    "    a[i]=remotecall_fetch(i+1,myid)\n",
    "end\n",
    "println(a) # a contien les numéros des workers  "
   ]
  },
  {
   "cell_type": "code",
   "execution_count": 22,
   "metadata": {
    "collapsed": false
   },
   "outputs": [
    {
     "name": "stdout",
     "output_type": "stream",
     "text": [
      "process: 2 int: 0.8898241279678305 \n",
      "\n",
      "process: 3 int: 0.8412918106677134 \n",
      "\n",
      "process: 4 int: 0.2950537943049809 \n",
      "\n",
      "process: 5 int: 0.0816639999226989 \n",
      "\n",
      "process: 2 int: 0.6194974016710659 \n",
      "\n",
      "process: 3 int: 0.8400850555226036 \n",
      "\n",
      "process: 4 int: 0.7153192675906841 \n",
      "\n",
      "process: 5 int: 0.43020425492900727 \n",
      "\n",
      "process: 2 int: 0.7287124352443148 \n",
      "\n",
      "process: 3 int: 0.49285348146084074 \n",
      "\n"
     ]
    }
   ],
   "source": [
    "for i=1:10\n",
    "   # spawn the process  \n",
    "   r = @spawn rand()  \n",
    "\n",
    "   # print out the results  \n",
    "    \n",
    "    println(\"process: $(r.where) int: $(fetch(r)) \\n\")  \n",
    " end  "
   ]
  },
  {
   "cell_type": "code",
   "execution_count": 23,
   "metadata": {
    "collapsed": false
   },
   "outputs": [
    {
     "data": {
      "text/plain": [
       "calc_bassin (generic function with 1 method)"
      ]
     },
     "execution_count": 23,
     "metadata": {},
     "output_type": "execute_result"
    }
   ],
   "source": [
    "# Calcul du bassin si on converge vers la Ieme racine suivant le point de départ\n",
    "function calc_bassin(f,df,n)\n",
    "    x=linspace(-1,1,n);\n",
    "    y=linspace(-1,1,n);\n",
    "    Remot=Array(Any,(n,n))\n",
    "    Imag=zeros(n,n);\n",
    "    k=0\n",
    "    wo=workers()\n",
    "    nw=nworkers()\n",
    "    for i=1:n\n",
    "      for j=1:n\n",
    "            k=k+1\n",
    "            wk=wo[k%nw+1]\n",
    "            Remot[i,j]=remotecall(wk,newton,[x[i],y[j]],f,df,1e-10)\n",
    "      end\n",
    "    end     \n",
    "    \n",
    "    for i=1:n\n",
    "      for j=1:n\n",
    "            r=fetch(Remot[i,j])\n",
    "            if (norm(r-[1,0])<1e-2)\n",
    "                Imag[i,j]=1;\n",
    "            elseif (norm(r-[cos(2*pi/3),sin(2*pi/3)])<1e-2)\n",
    "                Imag[i,j]=2;\n",
    "            elseif (norm(r-[cos(2*pi/3),-sin(2*pi/3)])<1e-2)\n",
    "                Imag[i,j]=3;\n",
    "            end\n",
    "        end\n",
    "    end\n",
    "    return Imag\n",
    "end"
   ]
  }
 ],
 "metadata": {
  "kernelspec": {
   "display_name": "Julia 0.3.11",
   "language": "julia",
   "name": "julia-0.3"
  },
  "language_info": {
   "file_extension": ".jl",
   "mimetype": "application/julia",
   "name": "julia",
   "version": "0.3.11"
  }
 },
 "nbformat": 4,
 "nbformat_minor": 0
}
