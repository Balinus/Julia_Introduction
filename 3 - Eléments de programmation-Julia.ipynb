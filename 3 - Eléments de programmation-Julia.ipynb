{
 "cells": [
  {
   "cell_type": "markdown",
   "metadata": {},
   "source": [
    "# Eléments de programmation\n",
    "\n",
    "Pour mener à bien un calcul algorithmique le nombre d'éléments de langage n'est pas très important et peut se résumer aux 3 syntaxes suivantes\n",
    "\n",
    "* Le choix conditionnel **if**-**elseif**-**else**-**end**.\n",
    "* La boucle **for**-**end**.\n",
    "* La boucle **while**-**end**\n",
    "\n",
    "\n",
    "# if ... elseif ... else ... end\n",
    "\n",
    "Un choix simple si le test est vrai (k==1) alors le bloc d'instruction est évalué"
   ]
  },
  {
   "cell_type": "code",
   "execution_count": 1,
   "metadata": {
    "collapsed": false
   },
   "outputs": [
    {
     "name": "stdout",
     "output_type": "stream",
     "text": [
      "k=1\n"
     ]
    }
   ],
   "source": [
    "k=1;\n",
    "if k==1\n",
    "    println(\"k=1\")\n",
    "end"
   ]
  },
  {
   "cell_type": "markdown",
   "metadata": {},
   "source": [
    "Le **else** permet de donner un résultat par défaut..."
   ]
  },
  {
   "cell_type": "code",
   "execution_count": 2,
   "metadata": {
    "collapsed": false
   },
   "outputs": [
    {
     "name": "stdout",
     "output_type": "stream",
     "text": [
      "k=1\n"
     ]
    }
   ],
   "source": [
    "k=1;\n",
    "if k!=1\n",
    "    println(\"k<>1\")\n",
    "else\n",
    "    println(\"k=1\")\n",
    "end"
   ]
  },
  {
   "cell_type": "markdown",
   "metadata": {},
   "source": [
    "Une succession de **elseif** permet de choisir parmi plusieurs critères, dans la succession des bloks de **if** et **elseif** le premier qui est \"vrai\" est évaluer et l'instruction s'arrète."
   ]
  },
  {
   "cell_type": "code",
   "execution_count": 3,
   "metadata": {
    "collapsed": false
   },
   "outputs": [
    {
     "name": "stdout",
     "output_type": "stream",
     "text": [
      "k>1\n"
     ]
    }
   ],
   "source": [
    "k=2;\n",
    "if k==1\n",
    "    println(\"k=1\")\n",
    "elseif k>1\n",
    "    println(\"k>1\")\n",
    "else \n",
    "    println(\"k<1\")\n",
    "end"
   ]
  },
  {
   "cell_type": "markdown",
   "metadata": {},
   "source": [
    "# La boucle for\n",
    "\n",
    "Elle peut se définir à l'aide d'itérateurs ou de tableaux de valeurs les syntaxes \"=\" ou \"in\" sont équivallentes"
   ]
  },
  {
   "cell_type": "code",
   "execution_count": 4,
   "metadata": {
    "collapsed": false
   },
   "outputs": [
    {
     "name": "stdout",
     "output_type": "stream",
     "text": [
      "1\n",
      "2\n",
      "3\n",
      "4\n",
      "5\n",
      "6\n",
      "7\n",
      "8\n",
      "9\n",
      "10\n"
     ]
    }
   ],
   "source": [
    "for i=1:10\n",
    "    println(i)\n",
    "end"
   ]
  },
  {
   "cell_type": "code",
   "execution_count": 5,
   "metadata": {
    "collapsed": false
   },
   "outputs": [
    {
     "name": "stdout",
     "output_type": "stream",
     "text": [
      "ASCIIString\n",
      "Int64\n",
      "Complex{Bool}\n"
     ]
    }
   ],
   "source": [
    "for i in [\"un\" 2 im]\n",
    "    println(typeof(i))\n",
    "end"
   ]
  },
  {
   "cell_type": "markdown",
   "metadata": {},
   "source": [
    "La commande **breack** permet de sortir d'une boucle à tout moment"
   ]
  },
  {
   "cell_type": "code",
   "execution_count": 6,
   "metadata": {
    "collapsed": false
   },
   "outputs": [
    {
     "name": "stdout",
     "output_type": "stream",
     "text": [
      "1\n",
      "2\n",
      "3\n",
      "4\n",
      "5\n"
     ]
    }
   ],
   "source": [
    "for i = 1:1000\n",
    "    println(i)\n",
    "    if i >= 5\n",
    "       break\n",
    "    end\n",
    "end"
   ]
  },
  {
   "cell_type": "markdown",
   "metadata": {},
   "source": [
    "La commande **continue** permet elle de courtcircuiter la boucle en court et de passer à la valeur suivante"
   ]
  },
  {
   "cell_type": "code",
   "execution_count": 7,
   "metadata": {
    "collapsed": false
   },
   "outputs": [
    {
     "name": "stdout",
     "output_type": "stream",
     "text": [
      "3\n",
      "6\n",
      "9\n"
     ]
    }
   ],
   "source": [
    "for i = 1:10\n",
    "    if i % 3 != 0 # i modulo 3 different de 0\n",
    "        continue\n",
    "    end\n",
    "    println(i)\n",
    "end"
   ]
  },
  {
   "cell_type": "markdown",
   "metadata": {},
   "source": [
    "# La boucle while\n",
    "\n",
    "Tant que le test est \"vrai\" le blok est évalué, le test se faisant en entrée de blok"
   ]
  },
  {
   "cell_type": "code",
   "execution_count": 8,
   "metadata": {
    "collapsed": false
   },
   "outputs": [
    {
     "name": "stdout",
     "output_type": "stream",
     "text": [
      "1\n",
      "2\n",
      "3\n",
      "4\n",
      "5\n",
      "6\n",
      "7\n",
      "8\n",
      "9\n",
      "10\n"
     ]
    }
   ],
   "source": [
    "k=0;\n",
    "while k<10\n",
    "    k+=1  # k=k+1\n",
    "    println(k)\n",
    "end"
   ]
  },
  {
   "cell_type": "markdown",
   "metadata": {},
   "source": [
    "De même que la boucle **for** les commandes **breack** et **continue** sont valable..."
   ]
  },
  {
   "cell_type": "code",
   "execution_count": 9,
   "metadata": {
    "collapsed": false
   },
   "outputs": [
    {
     "name": "stdout",
     "output_type": "stream",
     "text": [
      "5\n",
      "10\n",
      "15\n",
      "20\n",
      "25\n",
      "30\n",
      "35\n"
     ]
    }
   ],
   "source": [
    "k=0;\n",
    "while k<1000\n",
    "    k+=1  # k=k+1\n",
    "    if k % 5 != 0 # k modulo 5 different de 0\n",
    "        continue # retour en début de boucle avec de nouveau un test sur k\n",
    "    end\n",
    "    println(k)\n",
    "    if k>30\n",
    "        break\n",
    "    end\n",
    "end"
   ]
  },
  {
   "cell_type": "markdown",
   "metadata": {},
   "source": [
    "# Un peu d'optimisation\n",
    "\n",
    "JULIA est dit un langage performant, regardons rapidement quelques exemples à faire ou ne pas faire.\n",
    "\n",
    "## Exemple de préallocation et utilisation de push!"
   ]
  },
  {
   "cell_type": "code",
   "execution_count": 10,
   "metadata": {
    "collapsed": false
   },
   "outputs": [
    {
     "name": "stdout",
     "output_type": "stream",
     "text": [
      "elapsed time: 0.694562798 seconds\n"
     ]
    },
    {
     "data": {
      "text/plain": [
       "0.694562798"
      ]
     },
     "execution_count": 10,
     "metadata": {},
     "output_type": "execute_result"
    }
   ],
   "source": [
    "tic()\n",
    "A=[];\n",
    "for i=1:10000\n",
    "    A=[A,i];   # a chaque itération on change la taille de A\n",
    "end\n",
    "toc()"
   ]
  },
  {
   "cell_type": "code",
   "execution_count": 11,
   "metadata": {
    "collapsed": false
   },
   "outputs": [
    {
     "name": "stdout",
     "output_type": "stream",
     "text": [
      "elapsed time: 0.008444079 seconds\n"
     ]
    },
    {
     "data": {
      "text/plain": [
       "0.008444079"
      ]
     },
     "execution_count": 11,
     "metadata": {},
     "output_type": "execute_result"
    }
   ],
   "source": [
    "tic()\n",
    "A=zeros(0);\n",
    "for i=1:10000\n",
    "    push!(A,i);   # a chaque itération on change la taille de A\n",
    "end\n",
    "toc()"
   ]
  },
  {
   "cell_type": "code",
   "execution_count": 12,
   "metadata": {
    "collapsed": false
   },
   "outputs": [
    {
     "name": "stdout",
     "output_type": "stream",
     "text": [
      "elapsed time: 0.0064525 seconds\n"
     ]
    },
    {
     "data": {
      "text/plain": [
       "0.0064525"
      ]
     },
     "execution_count": 12,
     "metadata": {},
     "output_type": "execute_result"
    }
   ],
   "source": [
    "tic()\n",
    "A=zeros(10000)\n",
    "for i=1:10000\n",
    "    A[i]=i;\n",
    "end\n",
    "toc()"
   ]
  },
  {
   "cell_type": "markdown",
   "metadata": {},
   "source": [
    "Cet exemple montre le coût prohibitif d'une réallocation dynamique qui impose une recopie totale de A à chaque itération.\n",
    "\n",
    "## Exemple de vectorisation\n",
    "\n",
    "Regardons la vectorisation sous JULIA à l'aide de la construction d'une matrice de Vandermond\n"
   ]
  },
  {
   "cell_type": "code",
   "execution_count": 13,
   "metadata": {
    "collapsed": false
   },
   "outputs": [
    {
     "name": "stdout",
     "output_type": "stream",
     "text": [
      "elapsed time: 0.480871367 seconds\n"
     ]
    },
    {
     "data": {
      "text/plain": [
       "0.480871367"
      ]
     },
     "execution_count": 13,
     "metadata": {},
     "output_type": "execute_result"
    }
   ],
   "source": [
    "tic()\n",
    "n=3000;\n",
    "x=linspace(0,1,n);\n",
    "V=zeros(n,n);\n",
    "for i=1:n\n",
    "    V[:,i]=x.^(i-1) # calcul vectorisé\n",
    "end\n",
    "toc()"
   ]
  },
  {
   "cell_type": "code",
   "execution_count": 14,
   "metadata": {
    "collapsed": false
   },
   "outputs": [
    {
     "name": "stdout",
     "output_type": "stream",
     "text": [
      "elapsed time: 4.19758533 seconds\n"
     ]
    },
    {
     "data": {
      "text/plain": [
       "4.19758533"
      ]
     },
     "execution_count": 14,
     "metadata": {},
     "output_type": "execute_result"
    }
   ],
   "source": [
    "tic()\n",
    "n=3000;\n",
    "x=linspace(0,1,n);\n",
    "X=zeros(n,n);\n",
    "for i=1:n\n",
    "    for j=1:n\n",
    "        X[i,j]=x[i]^(j-1) # calcul dévectorisé\n",
    "    end\n",
    "end\n",
    "toc()"
   ]
  },
  {
   "cell_type": "code",
   "execution_count": 15,
   "metadata": {
    "collapsed": false
   },
   "outputs": [
    {
     "name": "stdout",
     "output_type": "stream",
     "text": [
      "elapsed time: 10.599567818 seconds\n"
     ]
    },
    {
     "data": {
      "text/plain": [
       "10.599567818"
      ]
     },
     "execution_count": 15,
     "metadata": {},
     "output_type": "execute_result"
    }
   ],
   "source": [
    "tic()\n",
    "n=3000;\n",
    "x=linspace(0,1,n);\n",
    "W=[x[i]^(j-1) for i=1:n, j=1:n];\n",
    "toc()"
   ]
  },
  {
   "cell_type": "code",
   "execution_count": 16,
   "metadata": {
    "collapsed": false
   },
   "outputs": [
    {
     "name": "stdout",
     "output_type": "stream",
     "text": [
      "elapsed time: 0.615316079 seconds\n"
     ]
    },
    {
     "data": {
      "text/plain": [
       "0.615316079"
      ]
     },
     "execution_count": 16,
     "metadata": {},
     "output_type": "execute_result"
    }
   ],
   "source": [
    "function Vander(n)\n",
    "    x=linspace(0,1,n);\n",
    "    V=zeros(n,n);\n",
    "    for i=1:n\n",
    "        for j=1:n\n",
    "            V[i,j]=x[i]^(j-1) # calcul dévectorisé\n",
    "        end\n",
    "    end\n",
    "end\n",
    "tic(); Z=Vander(3000); toc()   "
   ]
  },
  {
   "cell_type": "markdown",
   "metadata": {},
   "source": [
    "La conclusion n'est pas très évidante... Néanmoins on peut voir que le fait de mettre le code dans une fonction impose une optimisation à la compilation... "
   ]
  }
 ],
 "metadata": {
  "kernelspec": {
   "display_name": "Julia 0.3.11",
   "language": "julia",
   "name": "julia-0.3"
  },
  "language_info": {
   "file_extension": ".jl",
   "mimetype": "application/julia",
   "name": "julia",
   "version": "0.3.11"
  }
 },
 "nbformat": 4,
 "nbformat_minor": 0
}
