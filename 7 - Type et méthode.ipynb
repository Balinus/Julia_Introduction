{
 "cells": [
  {
   "cell_type": "markdown",
   "metadata": {
    "collapsed": false
   },
   "source": [
    "# Type et méthodes\n",
    "\n",
    "JULIA possède un système de type et de méthode qui lui confère une approche objet.\n",
    "La fonction typeof() renvoie le type d'une variable de base Int32, Float64... JULIA est conçu pour permettre facilement d'étendre l'environnement à de nouveaux type de variable.\n",
    "\n",
    "Le types sont organisés suivant un hiérarchie comme on peut le voir sur l'arborescence partielle ci-dessous\n",
    "\n",
    "(arborescence générée à l'aide de https://github.com/tanmaykm/julia_types/blob/master/julia_types.jl)"
   ]
  },
  {
   "cell_type": "raw",
   "metadata": {},
   "source": [
    "+- Any << abstract immutable size:0 >>\n",
    ".  +- Number << abstract immutable size:0 >>\n",
    ".  .  +- Complex128 = Complex{Float64} << concrete immutable pointerfree size:16 >>\n",
    ".  .  +- Complex = Complex{Float32} << concrete immutable pointerfree size:8 >>\n",
    ".  .  +- Complex64 = Complex{Float32} << concrete immutable pointerfree size:8 >>\n",
    ".  .  +- Complex32 = Complex{Float16} << concrete immutable pointerfree size:4 >>\n",
    ".  .  +- Real << abstract immutable size:0 >>\n",
    ".  .  .  +- Rational = Rational{T<:Integer} << concrete immutable size:16 >>\n",
    ".  .  .  +- FloatingPoint << abstract immutable size:0 >>\n",
    ".  .  .  .  +- Float32 << concrete immutable pointerfree size:4 >>\n",
    ".  .  .  .  +- BigFloat << concrete mutable pointerfree size:32 >>\n",
    ".  .  .  .  +- Float64 << concrete immutable pointerfree size:8 >>\n",
    ".  .  .  .  +- Float16 << concrete immutable pointerfree size:2 >>\n",
    ".  .  .  +- Integer << abstract immutable size:0 >>\n",
    ".  .  .  .  +- Signed << abstract immutable size:0 >>\n",
    ".  .  .  .  .  +- Int8 << concrete immutable pointerfree size:1 >>\n",
    ".  .  .  .  .  +- Int16 << concrete immutable pointerfree size:2 >>\n",
    ".  .  .  .  .  +- Int128 << concrete immutable pointerfree size:16 >>\n",
    ".  .  .  .  .  +- Int64 << concrete immutable pointerfree size:8 >>\n",
    ".  .  .  .  .  +- Int = Int64 << concrete immutable pointerfree size:8 >>\n",
    ".  .  .  .  .  +- Int32 << concrete immutable pointerfree size:4 >>\n",
    ".  .  .  .  +- BigInt << concrete mutable pointerfree size:16 >>\n",
    ".  .  .  .  +- Unsigned << abstract immutable size:0 >>\n",
    ".  .  .  .  .  +- Uint = Uint64 << concrete immutable pointerfree size:8 >>\n",
    ".  .  .  .  .  +- Uint8 << concrete immutable pointerfree size:1 >>\n",
    ".  .  .  .  .  +- Uint32 << concrete immutable pointerfree size:4 >>\n",
    ".  .  .  .  .  +- Uint16 << concrete immutable pointerfree size:2 >>\n",
    ".  .  .  .  .  +- Uint128 << concrete immutable pointerfree size:16 >>\n",
    ".  .  .  .  .  +- Uint64 << concrete immutable pointerfree size:8 >>\n"
   ]
  },
  {
   "cell_type": "code",
   "execution_count": 8,
   "metadata": {
    "collapsed": false
   },
   "outputs": [
    {
     "data": {
      "text/plain": [
       "f (generic function with 2 methods)"
      ]
     },
     "execution_count": 8,
     "metadata": {},
     "output_type": "execute_result"
    }
   ],
   "source": [
    "function f(x::Any)\n",
    "    gamma(x+1)\n",
    "end"
   ]
  },
  {
   "cell_type": "code",
   "execution_count": 9,
   "metadata": {
    "collapsed": false
   },
   "outputs": [
    {
     "data": {
      "text/plain": [
       "f (generic function with 2 methods)"
      ]
     },
     "execution_count": 9,
     "metadata": {},
     "output_type": "execute_result"
    }
   ],
   "source": [
    "function f(n::Integer)\n",
    "    factorial(n)\n",
    "end"
   ]
  },
  {
   "cell_type": "code",
   "execution_count": 10,
   "metadata": {
    "collapsed": false
   },
   "outputs": [
    {
     "data": {
      "text/plain": [
       "6.0"
      ]
     },
     "execution_count": 10,
     "metadata": {},
     "output_type": "execute_result"
    }
   ],
   "source": [
    "f(3.0)"
   ]
  },
  {
   "cell_type": "code",
   "execution_count": 11,
   "metadata": {
    "collapsed": false
   },
   "outputs": [
    {
     "data": {
      "text/plain": [
       "6"
      ]
     },
     "execution_count": 11,
     "metadata": {},
     "output_type": "execute_result"
    }
   ],
   "source": [
    "f(3)"
   ]
  },
  {
   "cell_type": "code",
   "execution_count": 12,
   "metadata": {
    "collapsed": false
   },
   "outputs": [
    {
     "data": {
      "text/plain": [
       "0.4980156681183314 - 0.15494982830177254im"
      ]
     },
     "execution_count": 12,
     "metadata": {},
     "output_type": "execute_result"
    }
   ],
   "source": [
    "f(im)"
   ]
  },
  {
   "cell_type": "code",
   "execution_count": 13,
   "metadata": {
    "collapsed": false
   },
   "outputs": [
    {
     "ename": "LoadError",
     "evalue": "DomainError\nwhile loading In[13], in expression starting on line 1",
     "output_type": "error",
     "traceback": [
      "DomainError\nwhile loading In[13], in expression starting on line 1",
      "",
      " in factorial_lookup at combinatorics.jl:26",
      " in f at In[9]:2"
     ]
    }
   ],
   "source": [
    "f(-2)"
   ]
  },
  {
   "cell_type": "code",
   "execution_count": 14,
   "metadata": {
    "collapsed": false
   },
   "outputs": [
    {
     "ename": "LoadError",
     "evalue": "`factorial` has no method matching factorial(::Float64)\nwhile loading In[14], in expression starting on line 1",
     "output_type": "error",
     "traceback": [
      "`factorial` has no method matching factorial(::Float64)\nwhile loading In[14], in expression starting on line 1",
      ""
     ]
    }
   ],
   "source": [
    "factorial(sqrt(2))"
   ]
  },
  {
   "cell_type": "code",
   "execution_count": 84,
   "metadata": {
    "collapsed": true
   },
   "outputs": [],
   "source": [
    "abstract Grid # juste en dessous de Any\n",
    "type Grid1d <: Grid\n",
    "    debut::Float64\n",
    "    fin::Float64\n",
    "    n::Int32\n",
    "end"
   ]
  },
  {
   "cell_type": "code",
   "execution_count": 85,
   "metadata": {
    "collapsed": false
   },
   "outputs": [
    {
     "ename": "LoadError",
     "evalue": "InexactError()\nwhile loading In[85], in expression starting on line 1",
     "output_type": "error",
     "traceback": [
      "InexactError()\nwhile loading In[85], in expression starting on line 1",
      "",
      " in Grid1d at no file"
     ]
    }
   ],
   "source": [
    "a=Grid1d(0,1,2)"
   ]
  },
  {
   "cell_type": "code",
   "execution_count": 19,
   "metadata": {
    "collapsed": false
   },
   "outputs": [
    {
     "data": {
      "text/plain": [
       "0.0"
      ]
     },
     "execution_count": 19,
     "metadata": {},
     "output_type": "execute_result"
    }
   ],
   "source": [
    "a.debut"
   ]
  },
  {
   "cell_type": "code",
   "execution_count": 20,
   "metadata": {
    "collapsed": false
   },
   "outputs": [
    {
     "data": {
      "text/plain": [
       "1.0"
      ]
     },
     "execution_count": 20,
     "metadata": {},
     "output_type": "execute_result"
    }
   ],
   "source": [
    "a.fin"
   ]
  },
  {
   "cell_type": "code",
   "execution_count": 21,
   "metadata": {
    "collapsed": false
   },
   "outputs": [
    {
     "data": {
      "text/plain": [
       "2"
      ]
     },
     "execution_count": 21,
     "metadata": {},
     "output_type": "execute_result"
    }
   ],
   "source": [
    "a.n"
   ]
  },
  {
   "cell_type": "code",
   "execution_count": 37,
   "metadata": {
    "collapsed": false
   },
   "outputs": [
    {
     "data": {
      "text/plain": [
       "2"
      ]
     },
     "execution_count": 37,
     "metadata": {},
     "output_type": "execute_result"
    }
   ],
   "source": [
    "A=speye(3,3)\n",
    "A[1,2]=2"
   ]
  },
  {
   "cell_type": "code",
   "execution_count": 38,
   "metadata": {
    "collapsed": false
   },
   "outputs": [
    {
     "data": {
      "text/plain": [
       "SparseMatrixCSC{Float64,Int64} (constructor with 1 method)"
      ]
     },
     "execution_count": 38,
     "metadata": {},
     "output_type": "execute_result"
    }
   ],
   "source": [
    "typeof(A)"
   ]
  },
  {
   "cell_type": "code",
   "execution_count": 39,
   "metadata": {
    "collapsed": false
   },
   "outputs": [
    {
     "data": {
      "text/plain": [
       "4-element Array{Int64,1}:\n",
       " 1\n",
       " 1\n",
       " 2\n",
       " 3"
      ]
     },
     "execution_count": 39,
     "metadata": {},
     "output_type": "execute_result"
    }
   ],
   "source": [
    "A.rowval"
   ]
  },
  {
   "cell_type": "code",
   "execution_count": 40,
   "metadata": {
    "collapsed": false
   },
   "outputs": [
    {
     "data": {
      "text/plain": [
       "4-element Array{Int64,1}:\n",
       " 1\n",
       " 2\n",
       " 4\n",
       " 5"
      ]
     },
     "execution_count": 40,
     "metadata": {},
     "output_type": "execute_result"
    }
   ],
   "source": [
    "A.colptr"
   ]
  },
  {
   "cell_type": "code",
   "execution_count": 41,
   "metadata": {
    "collapsed": false
   },
   "outputs": [
    {
     "data": {
      "text/plain": [
       "4-element Array{Float64,1}:\n",
       " 1.0\n",
       " 2.0\n",
       " 1.0\n",
       " 1.0"
      ]
     },
     "execution_count": 41,
     "metadata": {},
     "output_type": "execute_result"
    }
   ],
   "source": [
    "A.nzval"
   ]
  },
  {
   "cell_type": "code",
   "execution_count": 33,
   "metadata": {
    "collapsed": false
   },
   "outputs": [
    {
     "data": {
      "text/plain": [
       "3"
      ]
     },
     "execution_count": 33,
     "metadata": {},
     "output_type": "execute_result"
    }
   ],
   "source": [
    "A.m"
   ]
  },
  {
   "cell_type": "code",
   "execution_count": 34,
   "metadata": {
    "collapsed": false
   },
   "outputs": [
    {
     "data": {
      "text/plain": [
       "3"
      ]
     },
     "execution_count": 34,
     "metadata": {},
     "output_type": "execute_result"
    }
   ],
   "source": [
    "A.n"
   ]
  },
  {
   "cell_type": "code",
   "execution_count": 42,
   "metadata": {
    "collapsed": false
   },
   "outputs": [
    {
     "data": {
      "text/plain": [
       "+ (generic function with 119 methods)"
      ]
     },
     "execution_count": 42,
     "metadata": {},
     "output_type": "execute_result"
    }
   ],
   "source": [
    "+"
   ]
  },
  {
   "cell_type": "code",
   "execution_count": 86,
   "metadata": {
    "collapsed": false
   },
   "outputs": [
    {
     "data": {
      "text/plain": [
       "+ (generic function with 120 methods)"
      ]
     },
     "execution_count": 86,
     "metadata": {},
     "output_type": "execute_result"
    }
   ],
   "source": [
    "function +(g::Grid1d,n::Integer)\n",
    "    g.n+=n\n",
    "    return g\n",
    "end"
   ]
  },
  {
   "cell_type": "code",
   "execution_count": 87,
   "metadata": {
    "collapsed": false
   },
   "outputs": [
    {
     "data": {
      "text/plain": [
       "Grid 1d : début 0.0 , fin 1.0 , 2 éléments\n"
      ]
     },
     "execution_count": 87,
     "metadata": {},
     "output_type": "execute_result"
    }
   ],
   "source": [
    "a=Grid1d(0,1,2)"
   ]
  },
  {
   "cell_type": "code",
   "execution_count": 88,
   "metadata": {
    "collapsed": false
   },
   "outputs": [
    {
     "data": {
      "text/plain": [
       "Grid 1d : début 0.0 , fin 1.0 , 4 éléments\n"
      ]
     },
     "execution_count": 88,
     "metadata": {},
     "output_type": "execute_result"
    }
   ],
   "source": [
    "a+2"
   ]
  },
  {
   "cell_type": "code",
   "execution_count": 90,
   "metadata": {
    "collapsed": false
   },
   "outputs": [
    {
     "data": {
      "text/plain": [
       "Grid 1d : début 0.0 , fin 1.0 , 4 éléments\n"
      ]
     },
     "execution_count": 90,
     "metadata": {},
     "output_type": "execute_result"
    }
   ],
   "source": [
    "a"
   ]
  },
  {
   "cell_type": "code",
   "execution_count": 92,
   "metadata": {
    "collapsed": false
   },
   "outputs": [
    {
     "ename": "LoadError",
     "evalue": "`+` has no method matching +(::Int64, ::Grid1d)\nwhile loading In[92], in expression starting on line 1",
     "output_type": "error",
     "traceback": [
      "`+` has no method matching +(::Int64, ::Grid1d)\nwhile loading In[92], in expression starting on line 1",
      ""
     ]
    }
   ],
   "source": [
    "2+a"
   ]
  },
  {
   "cell_type": "code",
   "execution_count": 95,
   "metadata": {
    "collapsed": false
   },
   "outputs": [
    {
     "ename": "LoadError",
     "evalue": "`+` has no method matching +(::Grid1d)\nwhile loading In[95], in expression starting on line 1",
     "output_type": "error",
     "traceback": [
      "`+` has no method matching +(::Grid1d)\nwhile loading In[95], in expression starting on line 1",
      ""
     ]
    }
   ],
   "source": [
    "+a"
   ]
  },
  {
   "cell_type": "code",
   "execution_count": 96,
   "metadata": {
    "collapsed": false
   },
   "outputs": [
    {
     "ename": "LoadError",
     "evalue": "`+` has no method matching +(::Grid1d, ::Array{Int64,1})\nwhile loading In[96], in expression starting on line 1",
     "output_type": "error",
     "traceback": [
      "`+` has no method matching +(::Grid1d, ::Array{Int64,1})\nwhile loading In[96], in expression starting on line 1",
      ""
     ]
    }
   ],
   "source": [
    "a+[1,2]"
   ]
  },
  {
   "cell_type": "code",
   "execution_count": 56,
   "metadata": {
    "collapsed": false
   },
   "outputs": [
    {
     "name": "stdout",
     "output_type": "stream",
     "text": [
      "Grid1d(0.0,1.0,4)\n"
     ]
    }
   ],
   "source": [
    "println(a)"
   ]
  },
  {
   "cell_type": "code",
   "execution_count": 57,
   "metadata": {
    "collapsed": false
   },
   "outputs": [
    {
     "name": "stdout",
     "output_type": "stream",
     "text": [
      "Grid1d(0.0,1.0,4)"
     ]
    }
   ],
   "source": [
    "Base.show(a)"
   ]
  },
  {
   "cell_type": "code",
   "execution_count": 73,
   "metadata": {
    "collapsed": false
   },
   "outputs": [
    {
     "data": {
      "text/plain": [
       "show (generic function with 92 methods)"
      ]
     },
     "execution_count": 73,
     "metadata": {},
     "output_type": "execute_result"
    }
   ],
   "source": [
    "function Base.show(io::IO,g::Grid1d)\n",
    "    print(io, \"Grid 1d : début $(g.debut) , fin $(g.fin) , $(g.n) éléments\\n\")\n",
    "end"
   ]
  },
  {
   "cell_type": "code",
   "execution_count": 74,
   "metadata": {
    "collapsed": false
   },
   "outputs": [
    {
     "data": {
      "text/plain": [
       "Grid 1d : début 0.0 , fin 1.0 , 4 éléments\n"
      ]
     },
     "execution_count": 74,
     "metadata": {},
     "output_type": "execute_result"
    }
   ],
   "source": [
    "a"
   ]
  },
  {
   "cell_type": "code",
   "execution_count": 76,
   "metadata": {
    "collapsed": false
   },
   "outputs": [
    {
     "data": {
      "text/plain": [
       "size (generic function with 52 methods)"
      ]
     },
     "execution_count": 76,
     "metadata": {},
     "output_type": "execute_result"
    }
   ],
   "source": [
    "function Base.size(g::Grid)\n",
    "    return g.n\n",
    "end"
   ]
  },
  {
   "cell_type": "code",
   "execution_count": 77,
   "metadata": {
    "collapsed": false
   },
   "outputs": [
    {
     "data": {
      "text/plain": [
       "4"
      ]
     },
     "execution_count": 77,
     "metadata": {},
     "output_type": "execute_result"
    }
   ],
   "source": [
    "size(a)"
   ]
  },
  {
   "cell_type": "code",
   "execution_count": 78,
   "metadata": {
    "collapsed": true
   },
   "outputs": [],
   "source": [
    "abstract Grid # juste en dessous de Any\n",
    "type Grid1d <: Grid\n",
    "    debut::Float64\n",
    "    fin::Float64\n",
    "    n::Int32\n",
    "    \n",
    "    # constructeurs par défaut sans argument\n",
    "    function Grid1d()\n",
    "        new(0,0,0)\n",
    "    end\n",
    "    \n",
    "    # constructeurs par défaut avec argument\n",
    "    function Grid1d(a,b,c)\n",
    "        if c<=0\n",
    "            error(\"pas possible\")\n",
    "        else\n",
    "            new(a,b,c)\n",
    "        end\n",
    "    end\n",
    "end"
   ]
  },
  {
   "cell_type": "code",
   "execution_count": 82,
   "metadata": {
    "collapsed": false
   },
   "outputs": [
    {
     "ename": "LoadError",
     "evalue": "pas possible\nwhile loading In[82], in expression starting on line 1",
     "output_type": "error",
     "traceback": [
      "pas possible\nwhile loading In[82], in expression starting on line 1",
      "",
      " in Grid1d at In[78]:15"
     ]
    }
   ],
   "source": [
    "b=Grid1d(0,1,-1)"
   ]
  },
  {
   "cell_type": "code",
   "execution_count": 97,
   "metadata": {
    "collapsed": false
   },
   "outputs": [
    {
     "ename": "LoadError",
     "evalue": "`det` has no method matching det(::Grid1d)\nwhile loading In[97], in expression starting on line 1",
     "output_type": "error",
     "traceback": [
      "`det` has no method matching det(::Grid1d)\nwhile loading In[97], in expression starting on line 1",
      ""
     ]
    }
   ],
   "source": [
    "function Base.det(g::Grid1d)\n",
    "    "
   ]
  },
  {
   "cell_type": "code",
   "execution_count": 98,
   "metadata": {
    "collapsed": false
   },
   "outputs": [
    {
     "data": {
      "text/plain": [
       "Grid 1d : début 0.0 , fin 1.0 , 4 éléments\n"
      ]
     },
     "execution_count": 98,
     "metadata": {},
     "output_type": "execute_result"
    }
   ],
   "source": [
    "a"
   ]
  },
  {
   "cell_type": "code",
   "execution_count": 99,
   "metadata": {
    "collapsed": false
   },
   "outputs": [
    {
     "ename": "LoadError",
     "evalue": "`getindex` has no method matching getindex(::Grid1d, ::Int64)\nwhile loading In[99], in expression starting on line 1",
     "output_type": "error",
     "traceback": [
      "`getindex` has no method matching getindex(::Grid1d, ::Int64)\nwhile loading In[99], in expression starting on line 1",
      ""
     ]
    }
   ],
   "source": [
    "a[1]"
   ]
  },
  {
   "cell_type": "code",
   "execution_count": 100,
   "metadata": {
    "collapsed": false
   },
   "outputs": [
    {
     "ename": "LoadError",
     "evalue": "type Grid1d has no field h\nwhile loading In[100], in expression starting on line 1",
     "output_type": "error",
     "traceback": [
      "type Grid1d has no field h\nwhile loading In[100], in expression starting on line 1",
      ""
     ]
    }
   ],
   "source": []
  },
  {
   "cell_type": "code",
   "execution_count": null,
   "metadata": {
    "collapsed": true
   },
   "outputs": [],
   "source": []
  }
 ],
 "metadata": {
  "kernelspec": {
   "display_name": "Julia 0.3.11",
   "language": "julia",
   "name": "julia-0.3"
  },
  "language_info": {
   "file_extension": ".jl",
   "mimetype": "application/julia",
   "name": "julia",
   "version": "0.3.11"
  }
 },
 "nbformat": 4,
 "nbformat_minor": 0
}
