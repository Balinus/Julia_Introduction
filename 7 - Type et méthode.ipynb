{
 "cells": [
  {
   "cell_type": "markdown",
   "metadata": {
    "collapsed": false
   },
   "source": [
    "# Type et méthodes\n",
    "\n",
    "JULIA possède un système de type et de méthode qui lui confère une approche objet. Le types sont organisés suivant un hiérarchie comme on peut le voir sur l'arborescence partielle ci-dessous\n",
    "\n",
    "(arborescence générée à l'aide de https://github.com/tanmaykm/julia_types/blob/master/julia_types.jl)"
   ]
  },
  {
   "cell_type": "raw",
   "metadata": {},
   "source": [
    "+- Any << abstract immutable size:0 >>\n",
    ".  +- Number << abstract immutable size:0 >>\n",
    ".  .  +- Complex128 = Complex{Float64} << concrete immutable pointerfree size:16 >>\n",
    ".  .  +- Complex = Complex{Float32} << concrete immutable pointerfree size:8 >>\n",
    ".  .  +- Complex64 = Complex{Float32} << concrete immutable pointerfree size:8 >>\n",
    ".  .  +- Complex32 = Complex{Float16} << concrete immutable pointerfree size:4 >>\n",
    ".  .  +- Real << abstract immutable size:0 >>\n",
    ".  .  .  +- Rational = Rational{T<:Integer} << concrete immutable size:16 >>\n",
    ".  .  .  +- FloatingPoint << abstract immutable size:0 >>\n",
    ".  .  .  .  +- Float32 << concrete immutable pointerfree size:4 >>\n",
    ".  .  .  .  +- BigFloat << concrete mutable pointerfree size:32 >>\n",
    ".  .  .  .  +- Float64 << concrete immutable pointerfree size:8 >>\n",
    ".  .  .  .  +- Float16 << concrete immutable pointerfree size:2 >>\n",
    ".  .  .  +- Integer << abstract immutable size:0 >>\n",
    ".  .  .  .  +- Signed << abstract immutable size:0 >>\n",
    ".  .  .  .  .  +- Int8 << concrete immutable pointerfree size:1 >>\n",
    ".  .  .  .  .  +- Int16 << concrete immutable pointerfree size:2 >>\n",
    ".  .  .  .  .  +- Int128 << concrete immutable pointerfree size:16 >>\n",
    ".  .  .  .  .  +- Int64 << concrete immutable pointerfree size:8 >>\n",
    ".  .  .  .  .  +- Int = Int64 << concrete immutable pointerfree size:8 >>\n",
    ".  .  .  .  .  +- Int32 << concrete immutable pointerfree size:4 >>\n",
    ".  .  .  .  +- BigInt << concrete mutable pointerfree size:16 >>\n",
    ".  .  .  .  +- Unsigned << abstract immutable size:0 >>\n",
    ".  .  .  .  .  +- Uint = Uint64 << concrete immutable pointerfree size:8 >>\n",
    ".  .  .  .  .  +- Uint8 << concrete immutable pointerfree size:1 >>\n",
    ".  .  .  .  .  +- Uint32 << concrete immutable pointerfree size:4 >>\n",
    ".  .  .  .  .  +- Uint16 << concrete immutable pointerfree size:2 >>\n",
    ".  .  .  .  .  +- Uint128 << concrete immutable pointerfree size:16 >>\n",
    ".  .  .  .  .  +- Uint64 << concrete immutable pointerfree size:8 >>\n"
   ]
  },
  {
   "cell_type": "code",
   "execution_count": null,
   "metadata": {
    "collapsed": true
   },
   "outputs": [],
   "source": []
  }
 ],
 "metadata": {
  "kernelspec": {
   "display_name": "Julia 0.3.11",
   "language": "julia",
   "name": "julia-0.3"
  },
  "language_info": {
   "file_extension": ".jl",
   "mimetype": "application/julia",
   "name": "julia",
   "version": "0.3.11"
  }
 },
 "nbformat": 4,
 "nbformat_minor": 0
}
