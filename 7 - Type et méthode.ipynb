{
 "cells": [
  {
   "cell_type": "markdown",
   "metadata": {
    "collapsed": false
   },
   "source": [
    "# Type et méthodes\n",
    "\n",
    "JULIA possède un système de type et de méthode qui lui confère une approche objet.\n",
    "La fonction typeof() renvoie le type d'une variable de base Int32, Float64... JULIA est conçu pour permettre facilement d'étendre l'environnement à de nouveaux type de variable.\n",
    "\n",
    "Le types sont organisés suivant un hiérarchie comme on peut le voir sur l'arborescence partielle ci-dessous\n",
    "\n",
    "(arborescence générée à l'aide de https://github.com/tanmaykm/julia_types/blob/master/julia_types.jl)"
   ]
  },
  {
   "cell_type": "raw",
   "metadata": {},
   "source": [
    "+- Any << abstract immutable size:0 >>\n",
    ".  +- Number << abstract immutable size:0 >>\n",
    ".  .  +- Complex128 = Complex{Float64} << concrete immutable pointerfree size:16 >>\n",
    ".  .  +- Complex = Complex{Float32} << concrete immutable pointerfree size:8 >>\n",
    ".  .  +- Complex64 = Complex{Float32} << concrete immutable pointerfree size:8 >>\n",
    ".  .  +- Complex32 = Complex{Float16} << concrete immutable pointerfree size:4 >>\n",
    ".  .  +- Real << abstract immutable size:0 >>\n",
    ".  .  .  +- Rational = Rational{T<:Integer} << concrete immutable size:16 >>\n",
    ".  .  .  +- FloatingPoint << abstract immutable size:0 >>\n",
    ".  .  .  .  +- Float32 << concrete immutable pointerfree size:4 >>\n",
    ".  .  .  .  +- BigFloat << concrete mutable pointerfree size:32 >>\n",
    ".  .  .  .  +- Float64 << concrete immutable pointerfree size:8 >>\n",
    ".  .  .  .  +- Float16 << concrete immutable pointerfree size:2 >>\n",
    ".  .  .  +- Integer << abstract immutable size:0 >>\n",
    ".  .  .  .  +- Signed << abstract immutable size:0 >>\n",
    ".  .  .  .  .  +- Int8 << concrete immutable pointerfree size:1 >>\n",
    ".  .  .  .  .  +- Int16 << concrete immutable pointerfree size:2 >>\n",
    ".  .  .  .  .  +- Int128 << concrete immutable pointerfree size:16 >>\n",
    ".  .  .  .  .  +- Int64 << concrete immutable pointerfree size:8 >>\n",
    ".  .  .  .  .  +- Int = Int64 << concrete immutable pointerfree size:8 >>\n",
    ".  .  .  .  .  +- Int32 << concrete immutable pointerfree size:4 >>\n",
    ".  .  .  .  +- BigInt << concrete mutable pointerfree size:16 >>\n",
    ".  .  .  .  +- Unsigned << abstract immutable size:0 >>\n",
    ".  .  .  .  .  +- Uint = Uint64 << concrete immutable pointerfree size:8 >>\n",
    ".  .  .  .  .  +- Uint8 << concrete immutable pointerfree size:1 >>\n",
    ".  .  .  .  .  +- Uint32 << concrete immutable pointerfree size:4 >>\n",
    ".  .  .  .  .  +- Uint16 << concrete immutable pointerfree size:2 >>\n",
    ".  .  .  .  .  +- Uint128 << concrete immutable pointerfree size:16 >>\n",
    ".  .  .  .  .  +- Uint64 << concrete immutable pointerfree size:8 >>\n"
   ]
  },
  {
   "cell_type": "markdown",
   "metadata": {},
   "source": [
    "Remarquez \"abstract\" et \"concrete\" dans cette arborescence.\n",
    "\n",
    "# Méthodes\n",
    "\n",
    "A chaque fonction est associée une méthode dépendante du type d'entrée comme dans ce qui suit suivant que l'entrée soit un entier ou pas."
   ]
  },
  {
   "cell_type": "code",
   "execution_count": 1,
   "metadata": {
    "collapsed": false
   },
   "outputs": [
    {
     "data": {
      "text/plain": [
       "f (generic function with 1 method)"
      ]
     },
     "execution_count": 1,
     "metadata": {},
     "output_type": "execute_result"
    }
   ],
   "source": [
    "function f(x::Any)\n",
    "    gamma(x+1)\n",
    "end"
   ]
  },
  {
   "cell_type": "code",
   "execution_count": 2,
   "metadata": {
    "collapsed": false
   },
   "outputs": [
    {
     "data": {
      "text/plain": [
       "f (generic function with 2 methods)"
      ]
     },
     "execution_count": 2,
     "metadata": {},
     "output_type": "execute_result"
    }
   ],
   "source": [
    "function f(n::Integer)\n",
    "    factorial(n)\n",
    "end"
   ]
  },
  {
   "cell_type": "code",
   "execution_count": 3,
   "metadata": {
    "collapsed": false
   },
   "outputs": [
    {
     "data": {
      "text/plain": [
       "6.0"
      ]
     },
     "execution_count": 3,
     "metadata": {},
     "output_type": "execute_result"
    }
   ],
   "source": [
    "f(3.0)"
   ]
  },
  {
   "cell_type": "code",
   "execution_count": 4,
   "metadata": {
    "collapsed": false
   },
   "outputs": [
    {
     "data": {
      "text/plain": [
       "6"
      ]
     },
     "execution_count": 4,
     "metadata": {},
     "output_type": "execute_result"
    }
   ],
   "source": [
    "f(3)"
   ]
  },
  {
   "cell_type": "code",
   "execution_count": 5,
   "metadata": {
    "collapsed": false
   },
   "outputs": [
    {
     "data": {
      "text/plain": [
       "0.4980156681183314 - 0.15494982830177254im"
      ]
     },
     "execution_count": 5,
     "metadata": {},
     "output_type": "execute_result"
    }
   ],
   "source": [
    "f(im)"
   ]
  },
  {
   "cell_type": "code",
   "execution_count": 6,
   "metadata": {
    "collapsed": false
   },
   "outputs": [
    {
     "ename": "LoadError",
     "evalue": "LoadError: DomainError:\nwhile loading In[6], in expression starting on line 1",
     "output_type": "error",
     "traceback": [
      "LoadError: DomainError:\nwhile loading In[6], in expression starting on line 1",
      "",
      " in factorial_lookup at combinatorics.jl:28",
      " in f at In[2]:2"
     ]
    }
   ],
   "source": [
    "f(-2)"
   ]
  },
  {
   "cell_type": "code",
   "execution_count": 7,
   "metadata": {
    "collapsed": false
   },
   "outputs": [
    {
     "data": {
      "text/plain": [
       "1.2538154806428916"
      ]
     },
     "execution_count": 7,
     "metadata": {},
     "output_type": "execute_result"
    }
   ],
   "source": [
    "factorial(sqrt(2))"
   ]
  },
  {
   "cell_type": "code",
   "execution_count": 8,
   "metadata": {
    "collapsed": false
   },
   "outputs": [
    {
     "data": {
      "text/plain": [
       "1.2538154806428916"
      ]
     },
     "execution_count": 8,
     "metadata": {},
     "output_type": "execute_result"
    }
   ],
   "source": [
    "f(sqrt(2))"
   ]
  },
  {
   "cell_type": "markdown",
   "metadata": {},
   "source": [
    "# Construction d'un nouveau Type de variable\n",
    "\n",
    "En premier lieu il faut définir un type abstrait puis une instance sous-hiérarchiquement concrète :"
   ]
  },
  {
   "cell_type": "code",
   "execution_count": 9,
   "metadata": {
    "collapsed": false
   },
   "outputs": [],
   "source": [
    "abstract Grid # juste en dessous de Any\n",
    "type Grid1d <: Grid\n",
    "    debut::Float64\n",
    "    fin::Float64\n",
    "    n::Int32\n",
    "end"
   ]
  },
  {
   "cell_type": "code",
   "execution_count": 10,
   "metadata": {
    "collapsed": false
   },
   "outputs": [
    {
     "data": {
      "text/plain": [
       "Grid1d(0.0,1.0,2)"
      ]
     },
     "execution_count": 10,
     "metadata": {},
     "output_type": "execute_result"
    }
   ],
   "source": [
    "a=Grid1d(0,1,2)"
   ]
  },
  {
   "cell_type": "code",
   "execution_count": 11,
   "metadata": {
    "collapsed": false
   },
   "outputs": [
    {
     "data": {
      "text/plain": [
       "0.0"
      ]
     },
     "execution_count": 11,
     "metadata": {},
     "output_type": "execute_result"
    }
   ],
   "source": [
    "a.debut"
   ]
  },
  {
   "cell_type": "code",
   "execution_count": 12,
   "metadata": {
    "collapsed": false
   },
   "outputs": [
    {
     "data": {
      "text/plain": [
       "1.0"
      ]
     },
     "execution_count": 12,
     "metadata": {},
     "output_type": "execute_result"
    }
   ],
   "source": [
    "a.fin"
   ]
  },
  {
   "cell_type": "code",
   "execution_count": 13,
   "metadata": {
    "collapsed": false
   },
   "outputs": [
    {
     "data": {
      "text/plain": [
       "2"
      ]
     },
     "execution_count": 13,
     "metadata": {},
     "output_type": "execute_result"
    }
   ],
   "source": [
    "a.n"
   ]
  },
  {
   "cell_type": "markdown",
   "metadata": {
    "collapsed": false
   },
   "source": [
    "# Surcharge des opérateurs\n",
    "\n",
    "La surcharge des opérations usuelles se fait en définissant une nouvelle méthode associé au nouveau type pour chaque opérateur, commençons par surcharger l'affichage à l'écran de notre nouveau type. Pour cela on va ajouter une méthode à la fonction \"show\""
   ]
  },
  {
   "cell_type": "code",
   "execution_count": 14,
   "metadata": {
    "collapsed": false
   },
   "outputs": [
    {
     "data": {
      "text/plain": [
       "show (generic function with 105 methods)"
      ]
     },
     "execution_count": 14,
     "metadata": {},
     "output_type": "execute_result"
    }
   ],
   "source": [
    "function Base.show(io::IO,g::Grid1d)\n",
    "    print(io, \"Grid 1d : début $(g.debut) , fin $(g.fin) , $(g.n) éléments\\n\")\n",
    "end"
   ]
  },
  {
   "cell_type": "code",
   "execution_count": 15,
   "metadata": {
    "collapsed": false
   },
   "outputs": [
    {
     "name": "stdout",
     "output_type": "stream",
     "text": [
      "Grid 1d : début 0.0 , fin 1.0 , 2 éléments\n"
     ]
    }
   ],
   "source": [
    "Base.show(a)"
   ]
  },
  {
   "cell_type": "code",
   "execution_count": 34,
   "metadata": {
    "collapsed": false
   },
   "outputs": [
    {
     "name": "stdout",
     "output_type": "stream",
     "text": [
      "Grid 1d : début 0.0 , fin 1.0 , 6 éléments\n",
      "\n"
     ]
    }
   ],
   "source": [
    "println(a)"
   ]
  },
  {
   "cell_type": "markdown",
   "metadata": {},
   "source": [
    "## Addition, soustraction ...\n",
    "\n",
    "Ces fonctions sont de la forme +(), -() c'est à dire"
   ]
  },
  {
   "cell_type": "code",
   "execution_count": 17,
   "metadata": {
    "collapsed": false
   },
   "outputs": [
    {
     "name": "stderr",
     "output_type": "stream",
     "text": [
      "WARNING: module Main should explicitly import + from Base\n"
     ]
    },
    {
     "data": {
      "text/plain": [
       "+ (generic function with 172 methods)"
      ]
     },
     "execution_count": 17,
     "metadata": {},
     "output_type": "execute_result"
    }
   ],
   "source": [
    "function +(g::Grid1d,n::Integer)\n",
    "    g.n+=n\n",
    "    return g\n",
    "end"
   ]
  },
  {
   "cell_type": "code",
   "execution_count": 18,
   "metadata": {
    "collapsed": false
   },
   "outputs": [
    {
     "data": {
      "text/plain": [
       "Grid 1d : début 0.0 , fin 1.0 , 2 éléments\n"
      ]
     },
     "execution_count": 18,
     "metadata": {},
     "output_type": "execute_result"
    }
   ],
   "source": [
    "a=Grid1d(0,1,2)"
   ]
  },
  {
   "cell_type": "code",
   "execution_count": 19,
   "metadata": {
    "collapsed": false
   },
   "outputs": [
    {
     "data": {
      "text/plain": [
       "Grid 1d : début 0.0 , fin 1.0 , 4 éléments\n"
      ]
     },
     "execution_count": 19,
     "metadata": {},
     "output_type": "execute_result"
    }
   ],
   "source": [
    "a+2"
   ]
  },
  {
   "cell_type": "code",
   "execution_count": 20,
   "metadata": {
    "collapsed": false
   },
   "outputs": [
    {
     "data": {
      "text/plain": [
       "Grid 1d : début 0.0 , fin 1.0 , 5 éléments\n"
      ]
     },
     "execution_count": 20,
     "metadata": {},
     "output_type": "execute_result"
    }
   ],
   "source": [
    "a+=1"
   ]
  },
  {
   "cell_type": "markdown",
   "metadata": {},
   "source": [
    "Attention l'addition n'est pas forcément commutative !"
   ]
  },
  {
   "cell_type": "code",
   "execution_count": 21,
   "metadata": {
    "collapsed": false
   },
   "outputs": [
    {
     "ename": "LoadError",
     "evalue": "LoadError: MethodError: `+` has no method matching +(::Int64, ::Grid1d)\nClosest candidates are:\n  +(::Any, ::Any, !Matched::Any, !Matched::Any...)\n  +(::Int64, !Matched::Int64)\n  +(::Integer, !Matched::Ptr{T})\n  ...\nwhile loading In[21], in expression starting on line 1",
     "output_type": "error",
     "traceback": [
      "LoadError: MethodError: `+` has no method matching +(::Int64, ::Grid1d)\nClosest candidates are:\n  +(::Any, ::Any, !Matched::Any, !Matched::Any...)\n  +(::Int64, !Matched::Int64)\n  +(::Integer, !Matched::Ptr{T})\n  ...\nwhile loading In[21], in expression starting on line 1",
      ""
     ]
    }
   ],
   "source": [
    "2+a"
   ]
  },
  {
   "cell_type": "markdown",
   "metadata": {},
   "source": [
    "ni unaire !"
   ]
  },
  {
   "cell_type": "code",
   "execution_count": 35,
   "metadata": {
    "collapsed": false
   },
   "outputs": [
    {
     "ename": "LoadError",
     "evalue": "LoadError: MethodError: `+` has no method matching +(::Grid1d)\nClosest candidates are:\n  +(::Grid1d, !Matched::Integer)\n  +(::Any, !Matched::Any, !Matched::Any, !Matched::Any...)\nwhile loading In[35], in expression starting on line 1",
     "output_type": "error",
     "traceback": [
      "LoadError: MethodError: `+` has no method matching +(::Grid1d)\nClosest candidates are:\n  +(::Grid1d, !Matched::Integer)\n  +(::Any, !Matched::Any, !Matched::Any, !Matched::Any...)\nwhile loading In[35], in expression starting on line 1",
      ""
     ]
    }
   ],
   "source": [
    "+a"
   ]
  },
  {
   "cell_type": "markdown",
   "metadata": {},
   "source": [
    "Notez le message d'erreur qui est très claire !"
   ]
  },
  {
   "cell_type": "code",
   "execution_count": 24,
   "metadata": {
    "collapsed": false
   },
   "outputs": [
    {
     "ename": "LoadError",
     "evalue": "LoadError: MethodError: `+` has no method matching +(::Grid1d, ::Array{Int64,1})\nClosest candidates are:\n  +(::Any, ::Any, !Matched::Any, !Matched::Any...)\n  +{S,T}(!Matched::Range{S}, ::AbstractArray{T,N})\n  +(!Matched::SparseMatrixCSC{Tv,Ti<:Integer}, ::Array{T,N})\n  ...\nwhile loading In[24], in expression starting on line 1",
     "output_type": "error",
     "traceback": [
      "LoadError: MethodError: `+` has no method matching +(::Grid1d, ::Array{Int64,1})\nClosest candidates are:\n  +(::Any, ::Any, !Matched::Any, !Matched::Any...)\n  +{S,T}(!Matched::Range{S}, ::AbstractArray{T,N})\n  +(!Matched::SparseMatrixCSC{Tv,Ti<:Integer}, ::Array{T,N})\n  ...\nwhile loading In[24], in expression starting on line 1",
      ""
     ]
    }
   ],
   "source": [
    "a+[1,2]"
   ]
  },
  {
   "cell_type": "markdown",
   "metadata": {
    "collapsed": false
   },
   "source": [
    "## Autres surcharges\n",
    "\n",
    "Toutes les fonctions usuelles sont surchargeable sans limite : size(); det() ..."
   ]
  },
  {
   "cell_type": "code",
   "execution_count": 36,
   "metadata": {
    "collapsed": false
   },
   "outputs": [
    {
     "data": {
      "text/plain": [
       "size (generic function with 63 methods)"
      ]
     },
     "execution_count": 36,
     "metadata": {},
     "output_type": "execute_result"
    }
   ],
   "source": [
    "function Base.size(g::Grid)\n",
    "    return g.n\n",
    "end"
   ]
  },
  {
   "cell_type": "code",
   "execution_count": 37,
   "metadata": {
    "collapsed": false
   },
   "outputs": [
    {
     "data": {
      "text/plain": [
       "6"
      ]
     },
     "execution_count": 37,
     "metadata": {},
     "output_type": "execute_result"
    }
   ],
   "source": [
    "size(a)"
   ]
  },
  {
   "cell_type": "code",
   "execution_count": 39,
   "metadata": {
    "collapsed": false
   },
   "outputs": [
    {
     "data": {
      "text/plain": [
       "det (generic function with 19 methods)"
      ]
     },
     "execution_count": 39,
     "metadata": {},
     "output_type": "execute_result"
    }
   ],
   "source": [
    "function Base.det(g::Grid1d)\n",
    "    g.fin-g.debut\n",
    "end "
   ]
  },
  {
   "cell_type": "code",
   "execution_count": 41,
   "metadata": {
    "collapsed": false
   },
   "outputs": [
    {
     "data": {
      "text/plain": [
       "1.0"
      ]
     },
     "execution_count": 41,
     "metadata": {},
     "output_type": "execute_result"
    }
   ],
   "source": [
    "det(a)"
   ]
  },
  {
   "cell_type": "markdown",
   "metadata": {},
   "source": [
    "# Type et constructeurs\n",
    "\n",
    "Chaque langage \"objet\" définit un constructeur pour ces objets. Nous avons déjà utiliser un constructeur générique qui rempli chaque champ du nouveau type. Il est possible de faire une variante suivant le nombre d'arguments d'entrée et de leur type "
   ]
  },
  {
   "cell_type": "code",
   "execution_count": 42,
   "metadata": {
    "collapsed": true
   },
   "outputs": [],
   "source": [
    "abstract Grid # juste en dessous de Any\n",
    "type Grid1d <: Grid\n",
    "    debut::Float64\n",
    "    fin::Float64\n",
    "    n::Int32\n",
    "    \n",
    "    # constructeurs par défaut sans argument\n",
    "    function Grid1d()\n",
    "        new(0,0,0)\n",
    "    end\n",
    "    \n",
    "    # constructeurs par défaut avec argument\n",
    "    function Grid1d(a,b,c)\n",
    "        if c<=0\n",
    "            error(\"pas possible\")\n",
    "        else\n",
    "            new(a,b,c)\n",
    "        end\n",
    "    end\n",
    "end"
   ]
  },
  {
   "cell_type": "code",
   "execution_count": 30,
   "metadata": {
    "collapsed": false
   },
   "outputs": [
    {
     "ename": "LoadError",
     "evalue": "LoadError: pas possible\nwhile loading In[30], in expression starting on line 1",
     "output_type": "error",
     "traceback": [
      "LoadError: pas possible\nwhile loading In[30], in expression starting on line 1",
      "",
      " in call at In[29]:15"
     ]
    }
   ],
   "source": [
    "b=Grid1d(0,1,-1)"
   ]
  },
  {
   "cell_type": "markdown",
   "metadata": {
    "collapsed": true
   },
   "source": [
    "Il devient possible de déterminer un constructeurs pour différentes entrées.\n",
    "\n",
    "Il faut au préalable bien penser sa hiérarchie de type et écrire autant de fonctions constructeurs que de cas d'initialisation du nouveau type."
   ]
  },
  {
   "cell_type": "markdown",
   "metadata": {},
   "source": [
    "# Les Itérateurs\n",
    "\n",
    "Il est possible sur un type nouveau de définir un itérateur, comme ici de parcourrir les points de la grille, définissons (surchargeons) de nouvelles fonctions ou plutôt méthodes : "
   ]
  },
  {
   "cell_type": "code",
   "execution_count": 102,
   "metadata": {
    "collapsed": false
   },
   "outputs": [
    {
     "data": {
      "text/plain": [
       "done (generic function with 52 methods)"
      ]
     },
     "execution_count": 102,
     "metadata": {},
     "output_type": "execute_result"
    }
   ],
   "source": [
    "Base.start(a::Grid1d) = 1\n",
    "\n",
    "function Base.next(a::Grid1d, state)\n",
    "    if state == 1\n",
    "        return (a.debut,2)\n",
    "    else\n",
    "        return (a.debut+(a.fin-a.debut)*(state-1)/a.n , state+1)\n",
    "    end\n",
    "end\n",
    "\n",
    "Base.done(a::Grid1d, state) = state > a.n +1\n",
    "\n"
   ]
  },
  {
   "cell_type": "code",
   "execution_count": 103,
   "metadata": {
    "collapsed": false
   },
   "outputs": [
    {
     "data": {
      "text/plain": [
       "Grid 1d : début 0.0 , fin 1.0 , 10 éléments\n"
      ]
     },
     "execution_count": 103,
     "metadata": {},
     "output_type": "execute_result"
    }
   ],
   "source": [
    "a=Grid1d(0,1,10)"
   ]
  },
  {
   "cell_type": "code",
   "execution_count": 104,
   "metadata": {
    "collapsed": false
   },
   "outputs": [
    {
     "data": {
      "text/plain": [
       "1"
      ]
     },
     "execution_count": 104,
     "metadata": {},
     "output_type": "execute_result"
    }
   ],
   "source": [
    "start(a)"
   ]
  },
  {
   "cell_type": "code",
   "execution_count": 105,
   "metadata": {
    "collapsed": false
   },
   "outputs": [
    {
     "data": {
      "text/plain": [
       "(-0.1,1)"
      ]
     },
     "execution_count": 105,
     "metadata": {},
     "output_type": "execute_result"
    }
   ],
   "source": [
    "next(a,0)"
   ]
  },
  {
   "cell_type": "code",
   "execution_count": 106,
   "metadata": {
    "collapsed": false
   },
   "outputs": [
    {
     "name": "stdout",
     "output_type": "stream",
     "text": [
      "0.0\n",
      "0.1\n",
      "0.2\n",
      "0.3\n",
      "0.4\n",
      "0.5\n",
      "0.6\n",
      "0.7\n",
      "0.8\n",
      "0.9\n",
      "1.0\n"
     ]
    }
   ],
   "source": [
    "for i in a\n",
    "    println(i)\n",
    "end"
   ]
  },
  {
   "cell_type": "markdown",
   "metadata": {},
   "source": [
    "Il devient possible de construire des itérateurs sur une grille 2d, 3d renvoyant les coordonnées des points de la grille... Mais on peut imaginer sur une triangulation etc... "
   ]
  }
 ],
 "metadata": {
  "kernelspec": {
   "display_name": "Julia 0.4.2",
   "language": "julia",
   "name": "julia-0.4"
  },
  "language_info": {
   "file_extension": ".jl",
   "mimetype": "application/julia",
   "name": "julia",
   "version": "0.4.2"
  }
 },
 "nbformat": 4,
 "nbformat_minor": 0
}
